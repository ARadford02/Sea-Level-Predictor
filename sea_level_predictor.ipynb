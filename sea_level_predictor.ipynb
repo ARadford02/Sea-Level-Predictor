{
 "cells": [
  {
   "cell_type": "code",
   "execution_count": 1,
   "id": "d71f7004",
   "metadata": {},
   "outputs": [],
   "source": [
    "import pandas as pd\n",
    "import matplotlib.pyplot as plt\n",
    "from scipy.stats import linregress"
   ]
  },
  {
   "cell_type": "code",
   "execution_count": null,
   "id": "bd787c41",
   "metadata": {},
   "outputs": [],
   "source": []
  },
  {
   "cell_type": "code",
   "execution_count": null,
   "id": "6011e78e",
   "metadata": {},
   "outputs": [],
   "source": []
  },
  {
   "cell_type": "code",
   "execution_count": 22,
   "id": "cddc1813",
   "metadata": {},
   "outputs": [],
   "source": [
    "def draw_plot():\n",
    "    # Read data from file\n",
    "    data = pd.read_csv('epa-sea-level.csv')\n",
    "    x = data['Year']\n",
    "    y = data['CSIRO Adjusted Sea Level']\n",
    "    # Create scatter plot\n",
    "    fig, ax = plt.subplots(figsize=(8,5))\n",
    "    ax.scatter(x,y,s=8,label='CSIRO Data')\n",
    "    ax.grid()\n",
    "    ax.set_xlim(1850,2075)\n",
    "    \n",
    "\n",
    "    # Create first line of best fit\n",
    "    #The slope and intercept for the first best fit line\n",
    "    slope1 = linregress(x,y)[0]\n",
    "    intercept1 = linregress(x,y)[1]\n",
    "    #xnew is data for future as precitions \n",
    "    xnew = [item for item in range(2014, 2050+1)]\n",
    "    xnew = pd.Series(xnew)#this makes it a pd series for ease of work\n",
    "    x_fit1 = pd.concat([x,xnew])#Joins the new year data to the original \n",
    "    y_fit1 = slope1*x_fit1+ intercept1 #Makes the y data for the best fit line\n",
    "    \n",
    "    ax.plot(x_fit1,y_fit1,'r-',label='CSIRO Best fit')\n",
    "\n",
    "    # Create second line of best fit\n",
    "    #Mask to pick out the data only from year 2000 onwards\n",
    "    data_recent = data.loc[(data['Year']>1999)]\n",
    "    #The x and y data for the data from year 2000 onwards\n",
    "    x_recent = data_recent['Year']\n",
    "    y_recent = data_recent['CSIRO Adjusted Sea Level']\n",
    "    #Linear regression for the year 2000 onwards data set \n",
    "    slope_recent = linregress(x_recent,y_recent)[0]\n",
    "    intercept_recent = linregress(x_recent,y_recent)[1]\n",
    "    #Joins the future years to the original years of 2000 onwards\n",
    "    x_fit2 = pd.concat([x_recent,xnew])\n",
    "    #Makes the best fit line for 2000 onwards\n",
    "    y_fit2 = slope_recent*x_fit2 + intercept_recent\n",
    "    \n",
    "    ax.plot(x_fit2,y_fit2,'-',color='orange',label='Best fit post 2000')\n",
    "\n",
    "    # Add labels and title\n",
    "    ax.set_xlabel('Year')\n",
    "    ax.set_ylabel('Sea Level (inches)')\n",
    "    ax.set_title('Rise in Sea Level')\n",
    "    ax.legend(loc=2)\n",
    "    \n",
    "    # Save plot and return data for testing (DO NOT MODIFY)\n",
    "    plt.savefig('sea_level_plot.png')\n",
    "    return plt.gca()"
   ]
  },
  {
   "cell_type": "code",
   "execution_count": 20,
   "id": "ce7a8597",
   "metadata": {},
   "outputs": [
    {
     "data": {
      "text/plain": [
       "<function __main__.draw_plot()>"
      ]
     },
     "execution_count": 20,
     "metadata": {},
     "output_type": "execute_result"
    }
   ],
   "source": [
    "draw_plot"
   ]
  },
  {
   "cell_type": "code",
   "execution_count": null,
   "id": "9edfc8c5",
   "metadata": {},
   "outputs": [],
   "source": []
  }
 ],
 "metadata": {
  "kernelspec": {
   "display_name": "Python 3 (ipykernel)",
   "language": "python",
   "name": "python3"
  },
  "language_info": {
   "codemirror_mode": {
    "name": "ipython",
    "version": 3
   },
   "file_extension": ".py",
   "mimetype": "text/x-python",
   "name": "python",
   "nbconvert_exporter": "python",
   "pygments_lexer": "ipython3",
   "version": "3.8.3"
  }
 },
 "nbformat": 4,
 "nbformat_minor": 5
}
